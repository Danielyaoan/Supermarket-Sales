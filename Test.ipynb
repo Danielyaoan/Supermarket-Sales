{
 "cells": [
  {
   "cell_type": "markdown",
   "id": "eee841d6",
   "metadata": {},
   "source": [
    "For what follows, use the coefficient of determination, $r^2$, as one of your metrics of success and report its 95% confidence interval. Carry any necessary hyperparameter tuning with pipelines. Choose the best CV strategy and report on the best hyperparameter settings."
   ]
  },
  {
   "cell_type": "markdown",
   "id": "0655805b",
   "metadata": {},
   "source": [
    "2. Train a multiple linear regression with and without Lasso regularization to **predict ```gross income```**.\n",
    "\n",
    "    1. How is the gross income affected by unit price, quantity, and other variables like day, time slot, and product line in general?\n",
    "    \n",
    "    4. When using Lasso regularizer, which value for the hyperparameter $\\lambda$ best works for this dataset? Which features were excluded in this model, if any?"
   ]
  },
  {
   "cell_type": "code",
   "execution_count": 1,
   "id": "896caa0c",
   "metadata": {},
   "outputs": [],
   "source": [
    "import joblib\n",
    "import numpy as np\n",
    "from sklearn.metrics import accuracy_score, r2_score, plot_confusion_matrix, classification_report\n",
    "from sklearn.model_selection import cross_val_score\n",
    "from scipy import stats\n",
    "import matplotlib.pyplot as plt"
   ]
  },
  {
   "cell_type": "code",
   "execution_count": 2,
   "id": "57c3e189",
   "metadata": {},
   "outputs": [
    {
     "data": {
      "text/html": [
       "<div>\n",
       "<style scoped>\n",
       "    .dataframe tbody tr th:only-of-type {\n",
       "        vertical-align: middle;\n",
       "    }\n",
       "\n",
       "    .dataframe tbody tr th {\n",
       "        vertical-align: top;\n",
       "    }\n",
       "\n",
       "    .dataframe thead th {\n",
       "        text-align: right;\n",
       "    }\n",
       "</style>\n",
       "<table border=\"1\" class=\"dataframe\">\n",
       "  <thead>\n",
       "    <tr style=\"text-align: right;\">\n",
       "      <th></th>\n",
       "      <th>Unit price</th>\n",
       "      <th>Quantity</th>\n",
       "      <th>gross income</th>\n",
       "      <th>Customer type</th>\n",
       "      <th>Gender</th>\n",
       "      <th>Branch_A</th>\n",
       "      <th>Branch_B</th>\n",
       "      <th>Branch_C</th>\n",
       "      <th>Electronic accessories</th>\n",
       "      <th>Fashion accessories</th>\n",
       "      <th>...</th>\n",
       "      <th>Thursday</th>\n",
       "      <th>Tuesday</th>\n",
       "      <th>Wednesday</th>\n",
       "      <th>Afternoon</th>\n",
       "      <th>Evening</th>\n",
       "      <th>Morning</th>\n",
       "      <th>Night</th>\n",
       "      <th>Cash</th>\n",
       "      <th>Credit card</th>\n",
       "      <th>Ewallet</th>\n",
       "    </tr>\n",
       "  </thead>\n",
       "  <tbody>\n",
       "    <tr>\n",
       "      <th>29</th>\n",
       "      <td>-1.160308</td>\n",
       "      <td>1.184657</td>\n",
       "      <td>-0.345462</td>\n",
       "      <td>1.0</td>\n",
       "      <td>1.0</td>\n",
       "      <td>1.0</td>\n",
       "      <td>0.0</td>\n",
       "      <td>0.0</td>\n",
       "      <td>0.0</td>\n",
       "      <td>0.0</td>\n",
       "      <td>...</td>\n",
       "      <td>0.0</td>\n",
       "      <td>0.0</td>\n",
       "      <td>0.0</td>\n",
       "      <td>1.0</td>\n",
       "      <td>0.0</td>\n",
       "      <td>0.0</td>\n",
       "      <td>0.0</td>\n",
       "      <td>1.0</td>\n",
       "      <td>0.0</td>\n",
       "      <td>0.0</td>\n",
       "    </tr>\n",
       "    <tr>\n",
       "      <th>535</th>\n",
       "      <td>-1.473301</td>\n",
       "      <td>0.507468</td>\n",
       "      <td>-0.808736</td>\n",
       "      <td>1.0</td>\n",
       "      <td>1.0</td>\n",
       "      <td>0.0</td>\n",
       "      <td>0.0</td>\n",
       "      <td>1.0</td>\n",
       "      <td>0.0</td>\n",
       "      <td>0.0</td>\n",
       "      <td>...</td>\n",
       "      <td>1.0</td>\n",
       "      <td>0.0</td>\n",
       "      <td>0.0</td>\n",
       "      <td>0.0</td>\n",
       "      <td>0.0</td>\n",
       "      <td>1.0</td>\n",
       "      <td>0.0</td>\n",
       "      <td>0.0</td>\n",
       "      <td>0.0</td>\n",
       "      <td>1.0</td>\n",
       "    </tr>\n",
       "    <tr>\n",
       "      <th>695</th>\n",
       "      <td>1.218746</td>\n",
       "      <td>-0.169720</td>\n",
       "      <td>0.573317</td>\n",
       "      <td>0.0</td>\n",
       "      <td>0.0</td>\n",
       "      <td>1.0</td>\n",
       "      <td>0.0</td>\n",
       "      <td>0.0</td>\n",
       "      <td>0.0</td>\n",
       "      <td>0.0</td>\n",
       "      <td>...</td>\n",
       "      <td>0.0</td>\n",
       "      <td>1.0</td>\n",
       "      <td>0.0</td>\n",
       "      <td>0.0</td>\n",
       "      <td>0.0</td>\n",
       "      <td>0.0</td>\n",
       "      <td>1.0</td>\n",
       "      <td>1.0</td>\n",
       "      <td>0.0</td>\n",
       "      <td>0.0</td>\n",
       "    </tr>\n",
       "    <tr>\n",
       "      <th>557</th>\n",
       "      <td>1.643305</td>\n",
       "      <td>1.523251</td>\n",
       "      <td>2.940413</td>\n",
       "      <td>0.0</td>\n",
       "      <td>0.0</td>\n",
       "      <td>0.0</td>\n",
       "      <td>0.0</td>\n",
       "      <td>1.0</td>\n",
       "      <td>0.0</td>\n",
       "      <td>0.0</td>\n",
       "      <td>...</td>\n",
       "      <td>0.0</td>\n",
       "      <td>0.0</td>\n",
       "      <td>1.0</td>\n",
       "      <td>0.0</td>\n",
       "      <td>0.0</td>\n",
       "      <td>0.0</td>\n",
       "      <td>1.0</td>\n",
       "      <td>0.0</td>\n",
       "      <td>0.0</td>\n",
       "      <td>1.0</td>\n",
       "    </tr>\n",
       "    <tr>\n",
       "      <th>836</th>\n",
       "      <td>-0.640556</td>\n",
       "      <td>-0.169720</td>\n",
       "      <td>-0.480619</td>\n",
       "      <td>0.0</td>\n",
       "      <td>1.0</td>\n",
       "      <td>1.0</td>\n",
       "      <td>0.0</td>\n",
       "      <td>0.0</td>\n",
       "      <td>0.0</td>\n",
       "      <td>1.0</td>\n",
       "      <td>...</td>\n",
       "      <td>0.0</td>\n",
       "      <td>0.0</td>\n",
       "      <td>1.0</td>\n",
       "      <td>1.0</td>\n",
       "      <td>0.0</td>\n",
       "      <td>0.0</td>\n",
       "      <td>0.0</td>\n",
       "      <td>0.0</td>\n",
       "      <td>0.0</td>\n",
       "      <td>1.0</td>\n",
       "    </tr>\n",
       "    <tr>\n",
       "      <th>...</th>\n",
       "      <td>...</td>\n",
       "      <td>...</td>\n",
       "      <td>...</td>\n",
       "      <td>...</td>\n",
       "      <td>...</td>\n",
       "      <td>...</td>\n",
       "      <td>...</td>\n",
       "      <td>...</td>\n",
       "      <td>...</td>\n",
       "      <td>...</td>\n",
       "      <td>...</td>\n",
       "      <td>...</td>\n",
       "      <td>...</td>\n",
       "      <td>...</td>\n",
       "      <td>...</td>\n",
       "      <td>...</td>\n",
       "      <td>...</td>\n",
       "      <td>...</td>\n",
       "      <td>...</td>\n",
       "      <td>...</td>\n",
       "      <td>...</td>\n",
       "    </tr>\n",
       "    <tr>\n",
       "      <th>408</th>\n",
       "      <td>0.044450</td>\n",
       "      <td>-0.508315</td>\n",
       "      <td>-0.336353</td>\n",
       "      <td>1.0</td>\n",
       "      <td>0.0</td>\n",
       "      <td>1.0</td>\n",
       "      <td>0.0</td>\n",
       "      <td>0.0</td>\n",
       "      <td>0.0</td>\n",
       "      <td>0.0</td>\n",
       "      <td>...</td>\n",
       "      <td>0.0</td>\n",
       "      <td>0.0</td>\n",
       "      <td>0.0</td>\n",
       "      <td>0.0</td>\n",
       "      <td>0.0</td>\n",
       "      <td>0.0</td>\n",
       "      <td>1.0</td>\n",
       "      <td>0.0</td>\n",
       "      <td>0.0</td>\n",
       "      <td>1.0</td>\n",
       "    </tr>\n",
       "    <tr>\n",
       "      <th>332</th>\n",
       "      <td>0.824649</td>\n",
       "      <td>-0.169720</td>\n",
       "      <td>0.349925</td>\n",
       "      <td>1.0</td>\n",
       "      <td>1.0</td>\n",
       "      <td>1.0</td>\n",
       "      <td>0.0</td>\n",
       "      <td>0.0</td>\n",
       "      <td>0.0</td>\n",
       "      <td>1.0</td>\n",
       "      <td>...</td>\n",
       "      <td>0.0</td>\n",
       "      <td>0.0</td>\n",
       "      <td>0.0</td>\n",
       "      <td>1.0</td>\n",
       "      <td>0.0</td>\n",
       "      <td>0.0</td>\n",
       "      <td>0.0</td>\n",
       "      <td>1.0</td>\n",
       "      <td>0.0</td>\n",
       "      <td>0.0</td>\n",
       "    </tr>\n",
       "    <tr>\n",
       "      <th>208</th>\n",
       "      <td>-0.951645</td>\n",
       "      <td>-0.846909</td>\n",
       "      <td>-0.919159</td>\n",
       "      <td>1.0</td>\n",
       "      <td>0.0</td>\n",
       "      <td>0.0</td>\n",
       "      <td>1.0</td>\n",
       "      <td>0.0</td>\n",
       "      <td>0.0</td>\n",
       "      <td>1.0</td>\n",
       "      <td>...</td>\n",
       "      <td>1.0</td>\n",
       "      <td>0.0</td>\n",
       "      <td>0.0</td>\n",
       "      <td>1.0</td>\n",
       "      <td>0.0</td>\n",
       "      <td>0.0</td>\n",
       "      <td>0.0</td>\n",
       "      <td>0.0</td>\n",
       "      <td>0.0</td>\n",
       "      <td>1.0</td>\n",
       "    </tr>\n",
       "    <tr>\n",
       "      <th>613</th>\n",
       "      <td>0.973530</td>\n",
       "      <td>-1.524097</td>\n",
       "      <td>-0.963104</td>\n",
       "      <td>0.0</td>\n",
       "      <td>1.0</td>\n",
       "      <td>0.0</td>\n",
       "      <td>0.0</td>\n",
       "      <td>1.0</td>\n",
       "      <td>0.0</td>\n",
       "      <td>0.0</td>\n",
       "      <td>...</td>\n",
       "      <td>0.0</td>\n",
       "      <td>0.0</td>\n",
       "      <td>0.0</td>\n",
       "      <td>1.0</td>\n",
       "      <td>0.0</td>\n",
       "      <td>0.0</td>\n",
       "      <td>0.0</td>\n",
       "      <td>0.0</td>\n",
       "      <td>1.0</td>\n",
       "      <td>0.0</td>\n",
       "    </tr>\n",
       "    <tr>\n",
       "      <th>78</th>\n",
       "      <td>0.873768</td>\n",
       "      <td>1.523251</td>\n",
       "      <td>2.067996</td>\n",
       "      <td>0.0</td>\n",
       "      <td>0.0</td>\n",
       "      <td>0.0</td>\n",
       "      <td>0.0</td>\n",
       "      <td>1.0</td>\n",
       "      <td>0.0</td>\n",
       "      <td>0.0</td>\n",
       "      <td>...</td>\n",
       "      <td>0.0</td>\n",
       "      <td>1.0</td>\n",
       "      <td>0.0</td>\n",
       "      <td>1.0</td>\n",
       "      <td>0.0</td>\n",
       "      <td>0.0</td>\n",
       "      <td>0.0</td>\n",
       "      <td>0.0</td>\n",
       "      <td>0.0</td>\n",
       "      <td>1.0</td>\n",
       "    </tr>\n",
       "  </tbody>\n",
       "</table>\n",
       "<p>1000 rows × 28 columns</p>\n",
       "</div>"
      ],
      "text/plain": [
       "     Unit price  Quantity  gross income  Customer type  Gender  Branch_A  \\\n",
       "29    -1.160308  1.184657     -0.345462            1.0     1.0       1.0   \n",
       "535   -1.473301  0.507468     -0.808736            1.0     1.0       0.0   \n",
       "695    1.218746 -0.169720      0.573317            0.0     0.0       1.0   \n",
       "557    1.643305  1.523251      2.940413            0.0     0.0       0.0   \n",
       "836   -0.640556 -0.169720     -0.480619            0.0     1.0       1.0   \n",
       "..          ...       ...           ...            ...     ...       ...   \n",
       "408    0.044450 -0.508315     -0.336353            1.0     0.0       1.0   \n",
       "332    0.824649 -0.169720      0.349925            1.0     1.0       1.0   \n",
       "208   -0.951645 -0.846909     -0.919159            1.0     0.0       0.0   \n",
       "613    0.973530 -1.524097     -0.963104            0.0     1.0       0.0   \n",
       "78     0.873768  1.523251      2.067996            0.0     0.0       0.0   \n",
       "\n",
       "     Branch_B  Branch_C  Electronic accessories  Fashion accessories  ...  \\\n",
       "29        0.0       0.0                     0.0                  0.0  ...   \n",
       "535       0.0       1.0                     0.0                  0.0  ...   \n",
       "695       0.0       0.0                     0.0                  0.0  ...   \n",
       "557       0.0       1.0                     0.0                  0.0  ...   \n",
       "836       0.0       0.0                     0.0                  1.0  ...   \n",
       "..        ...       ...                     ...                  ...  ...   \n",
       "408       0.0       0.0                     0.0                  0.0  ...   \n",
       "332       0.0       0.0                     0.0                  1.0  ...   \n",
       "208       1.0       0.0                     0.0                  1.0  ...   \n",
       "613       0.0       1.0                     0.0                  0.0  ...   \n",
       "78        0.0       1.0                     0.0                  0.0  ...   \n",
       "\n",
       "     Thursday  Tuesday  Wednesday  Afternoon  Evening  Morning  Night  Cash  \\\n",
       "29        0.0      0.0        0.0        1.0      0.0      0.0    0.0   1.0   \n",
       "535       1.0      0.0        0.0        0.0      0.0      1.0    0.0   0.0   \n",
       "695       0.0      1.0        0.0        0.0      0.0      0.0    1.0   1.0   \n",
       "557       0.0      0.0        1.0        0.0      0.0      0.0    1.0   0.0   \n",
       "836       0.0      0.0        1.0        1.0      0.0      0.0    0.0   0.0   \n",
       "..        ...      ...        ...        ...      ...      ...    ...   ...   \n",
       "408       0.0      0.0        0.0        0.0      0.0      0.0    1.0   0.0   \n",
       "332       0.0      0.0        0.0        1.0      0.0      0.0    0.0   1.0   \n",
       "208       1.0      0.0        0.0        1.0      0.0      0.0    0.0   0.0   \n",
       "613       0.0      0.0        0.0        1.0      0.0      0.0    0.0   0.0   \n",
       "78        0.0      1.0        0.0        1.0      0.0      0.0    0.0   0.0   \n",
       "\n",
       "     Credit card  Ewallet  \n",
       "29           0.0      0.0  \n",
       "535          0.0      1.0  \n",
       "695          0.0      0.0  \n",
       "557          0.0      1.0  \n",
       "836          0.0      1.0  \n",
       "..           ...      ...  \n",
       "408          0.0      1.0  \n",
       "332          0.0      0.0  \n",
       "208          0.0      1.0  \n",
       "613          1.0      0.0  \n",
       "78           0.0      1.0  \n",
       "\n",
       "[1000 rows x 28 columns]"
      ]
     },
     "execution_count": 2,
     "metadata": {},
     "output_type": "execute_result"
    }
   ],
   "source": [
    "# data_set is vstack by train and test data\n",
    "data_set = joblib.load('data_set.pkl')\n",
    "data_set"
   ]
  },
  {
   "cell_type": "code",
   "execution_count": 3,
   "id": "0803b717",
   "metadata": {},
   "outputs": [
    {
     "name": "stdout",
     "output_type": "stream",
     "text": [
      "(800, 28) (200, 28)\n"
     ]
    }
   ],
   "source": [
    "train = data_set[:800]\n",
    "test = data_set[800:1000]\n",
    "print(train.shape, test.shape)"
   ]
  },
  {
   "cell_type": "code",
   "execution_count": 4,
   "id": "c63b3502",
   "metadata": {},
   "outputs": [],
   "source": [
    "X_train_1 = train.drop(['gross income'], axis=1).to_numpy()\n",
    "X_test_1 = test.drop(['gross income'], axis=1).to_numpy()\n",
    "t_train_1 = train['gross income'].to_numpy()\n",
    "t_test_1 = test['gross income'].to_numpy()"
   ]
  },
  {
   "cell_type": "code",
   "execution_count": 5,
   "id": "53879d3f",
   "metadata": {},
   "outputs": [
    {
     "data": {
      "text/plain": [
       "Pipeline(steps=[('Lasso', Lasso(alpha=0.01, tol=0.01))])"
      ]
     },
     "execution_count": 5,
     "metadata": {},
     "output_type": "execute_result"
    }
   ],
   "source": [
    "# load the data I trained in training notebook\n",
    "Model_1_1 = joblib.load('final_model_1_1.pkl')\n",
    "Model_1_1\n",
    "Model_1_2 = joblib.load('final_model_1_2.pkl')\n",
    "Model_1_2"
   ]
  },
  {
   "cell_type": "code",
   "execution_count": 6,
   "id": "e9b7fb6e",
   "metadata": {},
   "outputs": [],
   "source": [
    "y_train_1_1 = Model_1_1.predict(X_train_1)\n",
    "y_test_1_1 = Model_1_1.predict(X_test_1)\n",
    "y_train_1_2 = Model_1_2.predict(X_train_1)\n",
    "y_test_1_2 = Model_1_2.predict(X_test_1)"
   ]
  },
  {
   "cell_type": "code",
   "execution_count": 7,
   "id": "0672b1f9",
   "metadata": {},
   "outputs": [
    {
     "name": "stdout",
     "output_type": "stream",
     "text": [
      "For train set, r^2 score:  0.8885146857742481\n",
      "\n",
      "For test set, r^2 score:  0.9015539193672009\n",
      "\n",
      "For train set, r^2 score:  0.8857961111661022\n",
      "\n",
      "For test set, r^2 score:  0.9033248546567051\n"
     ]
    }
   ],
   "source": [
    "print('For train set, r^2 score: ', r2_score(t_train_1, y_train_1_1))\n",
    "print('\\nFor test set, r^2 score: ', r2_score(t_test_1, y_test_1_1))\n",
    "print('\\nFor train set, r^2 score: ', r2_score(t_train_1, y_train_1_2))\n",
    "print('\\nFor test set, r^2 score: ', r2_score(t_test_1, y_test_1_2))"
   ]
  },
  {
   "cell_type": "code",
   "execution_count": 8,
   "id": "438de745",
   "metadata": {},
   "outputs": [
    {
     "name": "stdout",
     "output_type": "stream",
     "text": [
      "[-0.04473193 -0.11570643 -0.10956139 -0.15504497 -0.08156257 -0.11349691\n",
      " -0.14649827 -0.25322946 -0.11270718 -0.14988958] \n",
      "\n",
      " [-0.05065074 -0.10601466 -0.08872391 -0.14720844 -0.07570596 -0.09171654\n",
      " -0.14321256 -0.20973004 -0.0863156  -0.13546357]\n"
     ]
    },
    {
     "data": {
      "image/png": "[encoded data removed]",
      "text/plain": [
       "<Figure size 700x500 with 1 Axes>"
      ]
     },
     "metadata": {},
     "output_type": "display_data"
    }
   ],
   "source": [
    "error_scores_1_1 = cross_val_score(Model_1_1,\n",
    "                           X_test_1,\n",
    "                           t_test_1,\n",
    "                           scoring='neg_mean_squared_error',\n",
    "                          cv=10)\n",
    "error_scores_1_2 = cross_val_score(Model_1_2,\n",
    "                           X_test_1,\n",
    "                           t_test_1,\n",
    "                           scoring='neg_mean_squared_error',\n",
    "                          cv=10)\n",
    "print(error_scores_1_1, '\\n\\n', error_scores_1_2)\n",
    "plt.figure(figsize=(7,5))\n",
    "plt.plot(error_scores_1_1, label='error for Linear')\n",
    "plt.plot(error_scores_1_2, label='error for Lasso')\n",
    "plt.xlabel('CV')\n",
    "plt.ylabel('error')\n",
    "plt.title('Error')\n",
    "plt.legend()\n",
    "plt.show()"
   ]
  },
  {
   "cell_type": "code",
   "execution_count": 9,
   "id": "cd22d4f2",
   "metadata": {},
   "outputs": [
    {
     "name": "stdout",
     "output_type": "stream",
     "text": [
      "[0.93918113 0.8319906  0.84583755 0.90229292 0.91273361 0.8769002\n",
      " 0.89874924 0.87058515 0.87267768 0.82579156] \n",
      "\n",
      " [0.93113373 0.84606337 0.87515771 0.90723138 0.91899979 0.9005234\n",
      " 0.90102012 0.89281586 0.90249155 0.84255812]\n"
     ]
    }
   ],
   "source": [
    "scores_1_1 = cross_val_score(Model_1_1,\n",
    "                           X_test_1,\n",
    "                           t_test_1,\n",
    "                           scoring='r2',\n",
    "                          cv=10)\n",
    "scores_1_2 = cross_val_score(Model_1_2,\n",
    "                           X_test_1,\n",
    "                           t_test_1,\n",
    "                           scoring='r2',\n",
    "                          cv=10)\n",
    "print(scores_1_1, '\\n\\n', scores_1_2)"
   ]
  },
  {
   "cell_type": "code",
   "execution_count": 10,
   "id": "d1f4beda",
   "metadata": {},
   "outputs": [
    {
     "name": "stdout",
     "output_type": "stream",
     "text": [
      "95% CI:  (0.8516283629521609, 0.9037195638610601)\n",
      "95% CI:  (0.8710183921175831, 0.9125806120617137)\n"
     ]
    }
   ],
   "source": [
    "# report the 95% confidence interval\n",
    "confidence = 0.95\n",
    "\n",
    "print('95% CI: ', stats.t.interval(confidence, df=len(scores_1_1) - 1,\n",
    "                 loc=scores_1_1.mean(),\n",
    "                 scale=scores_1_1.std(ddof=1)/np.sqrt(len(scores_1_1))))\n",
    "print('95% CI: ', stats.t.interval(confidence, df=len(scores_1_2) - 1,\n",
    "                 loc=scores_1_2.mean(),\n",
    "                 scale=scores_1_2.std(ddof=1)/np.sqrt(len(scores_1_2))))"
   ]
  },
  {
   "cell_type": "code",
   "execution_count": 11,
   "id": "385f7525",
   "metadata": {},
   "outputs": [
    {
     "data": {
      "image/png": "[encoded data removed]",
      "text/plain": [
       "<Figure size 800x500 with 1 Axes>"
      ]
     },
     "metadata": {},
     "output_type": "display_data"
    }
   ],
   "source": [
    "plt.figure(figsize=(8, 5))\n",
    "plt.scatter(1, 0.9015539193672009, c='r', marker='x', linewidth=10, label='Linear test score')\n",
    "plt.scatter(2, 0.9033248546567051, c='black', marker='x', linewidth=10, label='Lasso test score')\n",
    "plt.vlines(1, 0.8516283629521609, 0.9037195638610601, \n",
    "           linestyles='solid', label='Linear Interval', color='b', linewidth=2)\n",
    "plt.vlines(2, 0.8710183921175831, 0.9125806120617137, \n",
    "           linestyles='solid', label='Lasso Interval', color='orange', linewidth=2)\n",
    "plt.xlim(0.5, 2.5)\n",
    "plt.ylim(0.84, 0.93)\n",
    "plt.legend(fontsize=8)\n",
    "plt.ylabel('r2 score', fontsize=14);\n",
    "plt.title('95% Confidence Interval')\n",
    "plt.show()"
   ]
  },
  {
   "cell_type": "markdown",
   "id": "09a93e85",
   "metadata": {},
   "source": [
    "#### We can see that r^2 score in test set for both linear algorithms are in the range of 95% confidence interval and are also close to the train set. However, by comparing two models, higher error, high coefficients, larger confidence interval for linear regression implies that lasso demonstrates a greater degree of precision and more unlikely to overfit. As a result, Lasso Regression with alpha=0.01 is the best hyperparameter setting in this problem."
   ]
  },
  {
   "cell_type": "code",
   "execution_count": null,
   "id": "93c80ef3",
   "metadata": {},
   "outputs": [],
   "source": []
  },
  {
   "cell_type": "markdown",
   "id": "18f36bb7",
   "metadata": {},
   "source": [
    "3. Train a multiple linear regression with and without Lasso regularization to **predict ```Unit price```**.\n",
    "\n",
    "    1. How is the unit price affected by gross income, quantity, and other variables like day, timeslot, and product line in general?\n",
    "    \n",
    "    4. When using Lasso regularizer, which value for the hyperparameter $\\lambda$ best works for this dataset? Which features were excluded in this model, if any?"
   ]
  },
  {
   "cell_type": "code",
   "execution_count": 12,
   "id": "fdf8c7f0",
   "metadata": {},
   "outputs": [],
   "source": [
    "X_train_2 = train.drop(['Unit price'], axis=1).to_numpy()\n",
    "X_test_2 = test.drop(['Unit price'], axis=1).to_numpy()\n",
    "t_train_2 = train['Unit price'].to_numpy()\n",
    "t_test_2 = test['Unit price'].to_numpy()"
   ]
  },
  {
   "cell_type": "code",
   "execution_count": 13,
   "id": "57ebe26c",
   "metadata": {},
   "outputs": [
    {
     "data": {
      "text/plain": [
       "Pipeline(steps=[('Lasso', Lasso(alpha=0.01, tol=0.02))])"
      ]
     },
     "execution_count": 13,
     "metadata": {},
     "output_type": "execute_result"
    }
   ],
   "source": [
    "# load the data I trained in training notebook\n",
    "Model_2_1 = joblib.load('final_model_2_1.pkl')\n",
    "Model_2_1\n",
    "Model_2_2 = joblib.load('final_model_2_2.pkl')\n",
    "Model_2_2"
   ]
  },
  {
   "cell_type": "code",
   "execution_count": 14,
   "id": "89a6e443",
   "metadata": {},
   "outputs": [],
   "source": [
    "y_train_2_1 = Model_2_1.predict(X_train_2)\n",
    "y_test_2_1 = Model_2_1.predict(X_test_2)\n",
    "y_train_2_2 = Model_2_2.predict(X_train_2)\n",
    "y_test_2_2 = Model_2_2.predict(X_test_2)"
   ]
  },
  {
   "cell_type": "code",
   "execution_count": 15,
   "id": "89d017e9",
   "metadata": {},
   "outputs": [
    {
     "name": "stdout",
     "output_type": "stream",
     "text": [
      "For train set, r^2 score:  0.7813065326237771\n",
      "\n",
      "For test set, r^2 score:  0.7885270894112602\n",
      "\n",
      "For train set, r^2 score:  0.7751796310956677\n",
      "\n",
      "For test set, r^2 score:  0.8015911902883164\n"
     ]
    }
   ],
   "source": [
    "print('For train set, r^2 score: ', r2_score(t_train_2, y_train_2_1))\n",
    "print('\\nFor test set, r^2 score: ', r2_score(t_test_2, y_test_2_1))\n",
    "print('\\nFor train set, r^2 score: ', r2_score(t_train_2, y_train_2_2))\n",
    "print('\\nFor test set, r^2 score: ', r2_score(t_test_2, y_test_2_2))"
   ]
  },
  {
   "cell_type": "code",
   "execution_count": 16,
   "id": "d0daf8b0",
   "metadata": {},
   "outputs": [
    {
     "name": "stdout",
     "output_type": "stream",
     "text": [
      "[-0.09172582 -0.23001661 -0.2585874  -0.20048077 -0.12575044 -0.2195047\n",
      " -0.26456098 -0.44098863 -0.19074555 -0.43752905] \n",
      "\n",
      " [-0.09791945 -0.21279584 -0.24882458 -0.18158903 -0.11898633 -0.15726588\n",
      " -0.22966125 -0.38908213 -0.15237685 -0.39711125]\n"
     ]
    },
    {
     "data": {
      "image/png": "[encoded data removed]",
      "text/plain": [
       "<Figure size 640x480 with 1 Axes>"
      ]
     },
     "metadata": {},
     "output_type": "display_data"
    }
   ],
   "source": [
    "error_scores_2_1 = cross_val_score(Model_2_1,\n",
    "                           X_test_2,\n",
    "                           t_test_2,\n",
    "                           scoring='neg_mean_squared_error',\n",
    "                          cv=10)\n",
    "error_scores_2_2 = cross_val_score(Model_2_2,\n",
    "                           X_test_2,\n",
    "                           t_test_2,\n",
    "                           scoring='neg_mean_squared_error',\n",
    "                          cv=10)\n",
    "print(error_scores_2_1, '\\n\\n', error_scores_2_2)\n",
    "plt.plot(error_scores_2_1, label='error for Linear')\n",
    "plt.plot(error_scores_2_2, label='error for Lasso')\n",
    "plt.ylabel('negative MSE')\n",
    "plt.legend()\n",
    "plt.show()"
   ]
  },
  {
   "cell_type": "code",
   "execution_count": 17,
   "id": "c82ef4ed",
   "metadata": {},
   "outputs": [
    {
     "name": "stdout",
     "output_type": "stream",
     "text": [
      "[0.86477641 0.69221615 0.77865899 0.84139207 0.8938039  0.78432309\n",
      " 0.7980487  0.72132611 0.76865123 0.41404327] \n",
      "\n",
      " [0.85564568 0.71525917 0.7870156  0.85633805 0.89951618 0.84547657\n",
      " 0.82468923 0.75412738 0.81518732 0.46817244]\n"
     ]
    }
   ],
   "source": [
    "scores_2_1 = cross_val_score(Model_2_1,\n",
    "                           X_test_2,\n",
    "                           t_test_2,\n",
    "                           scoring='r2',\n",
    "                          cv=10)\n",
    "scores_2_2 = cross_val_score(Model_2_2,\n",
    "                           X_test_2,\n",
    "                           t_test_2,\n",
    "                           scoring='r2',\n",
    "                          cv=10)\n",
    "print(scores_2_1, '\\n\\n', scores_2_2)"
   ]
  },
  {
   "cell_type": "code",
   "execution_count": 18,
   "id": "7bf8e864",
   "metadata": {},
   "outputs": [
    {
     "name": "stdout",
     "output_type": "stream",
     "text": [
      "95% CI:  (0.6592871776646715, 0.8521608091517784)\n",
      "95% CI:  (0.6943816749634448, 0.8699038478690548)\n"
     ]
    }
   ],
   "source": [
    "# report the 95% confidence interval\n",
    "confidence = 0.95\n",
    "\n",
    "print('95% CI: ', stats.t.interval(confidence, df=len(scores_2_1) - 1,\n",
    "                 loc=scores_2_1.mean(),\n",
    "                 scale=scores_2_1.std(ddof=1)/np.sqrt(len(scores_2_1))))\n",
    "print('95% CI: ', stats.t.interval(confidence, df=len(scores_2_2) - 1,\n",
    "                 loc=scores_2_2.mean(),\n",
    "                 scale=scores_2_2.std(ddof=1)/np.sqrt(len(scores_2_2))))"
   ]
  },
  {
   "cell_type": "code",
   "execution_count": 19,
   "id": "5cfd8742",
   "metadata": {},
   "outputs": [
    {
     "data": {
      "image/png": "[encoded data removed]",
      "text/plain": [
       "<Figure size 800x500 with 1 Axes>"
      ]
     },
     "metadata": {},
     "output_type": "display_data"
    }
   ],
   "source": [
    "plt.figure(figsize=(8, 5))\n",
    "plt.scatter(1, 0.7885270894112602, c='r', marker='x', linewidth=10, label='Linear test score')\n",
    "plt.scatter(2, 0.8015911902883164, c='black', marker='x', linewidth=10, label='Lasso test score')\n",
    "plt.vlines(1, 0.6592871776646715, 0.8521608091517784, \n",
    "           linestyles='solid', label='Linear Interval', color='b', linewidth=2)\n",
    "plt.vlines(2, 0.6943816749634448, 0.8699038478690548, \n",
    "           linestyles='solid', label='Lasso Interval', color='orange', linewidth=2)\n",
    "plt.xlim(0.5, 2.5)\n",
    "plt.ylim(0.64, 0.88)\n",
    "plt.legend(fontsize=8)\n",
    "plt.colormaps()\n",
    "plt.ylabel('r2 score', fontsize=14);\n",
    "plt.title('95% Confidence Interval')\n",
    "plt.show()"
   ]
  },
  {
   "cell_type": "markdown",
   "id": "861b6bc1",
   "metadata": {},
   "source": [
    "#### We can see that r^2 score in test set is in the range of 95% confidence interval and is also close to the train set. However, by comparing two models, higher error, larger confidence interval for linear regression implies that lasso demonstrates a greater degree of precision and be more sutible to this problem. As a result, Lasso Regression with alpha=0.01 is the best hyperparameter setting in this problem."
   ]
  },
  {
   "cell_type": "code",
   "execution_count": null,
   "id": "4e8e9e79",
   "metadata": {},
   "outputs": [],
   "source": []
  },
  {
   "cell_type": "markdown",
   "id": "5f09a58e",
   "metadata": {},
   "source": [
    "4. Train a logistic regression to **classify gender** and study the relationship between attributes. Namely, explain the relationship between gender, product line, payment and gross income for branch C. To study this relationship, consider all the interaction attribution of degree 2. (See ```interaction_only``` variable in [```PolynomialFeatures```](https://scikit-learn.org/stable/modules/generated/sklearn.preprocessing.PolynomialFeatures.html)).\n",
    "\n",
    "    1. For ```Gender=male``` customers, plot the parameters values for all attributes (and its 2nd-order interactions).\n",
    "    2. Which attributes are the most informative?"
   ]
  },
  {
   "cell_type": "code",
   "execution_count": 20,
   "id": "fbe18472",
   "metadata": {},
   "outputs": [
    {
     "name": "stdout",
     "output_type": "stream",
     "text": [
      "(264, 67) (64, 67)\n",
      "(264,) (64,)\n"
     ]
    }
   ],
   "source": [
    "# import data from file\n",
    "data_3 = joblib.load('data_3.pkl')\n",
    "train_3 = data_3[:264]\n",
    "test_3 = data_3[264:328]\n",
    "X_train_3 = train_3[:,:67]\n",
    "X_test_3 = test_3[:,:67]\n",
    "t_train_3 = train_3[:,67]\n",
    "t_test_3 = test_3[:,67]\n",
    "print(X_train_3.shape, X_test_3.shape)\n",
    "print(t_train_3.shape, t_test_3.shape)"
   ]
  },
  {
   "cell_type": "code",
   "execution_count": 21,
   "id": "1e425f60",
   "metadata": {},
   "outputs": [
    {
     "data": {
      "text/plain": [
       "Pipeline(steps=[('Log_reg',\n",
       "                 LogisticRegression(max_iter=1000, penalty='none',\n",
       "                                    random_state=1, solver='newton-cg'))])"
      ]
     },
     "execution_count": 21,
     "metadata": {},
     "output_type": "execute_result"
    }
   ],
   "source": [
    "# load the data I trained in training notebook\n",
    "Model_3 = joblib.load('final_Model_3.pkl')\n",
    "Model_3"
   ]
  },
  {
   "cell_type": "code",
   "execution_count": 22,
   "id": "b4a7f9d0",
   "metadata": {},
   "outputs": [],
   "source": [
    "y_train_3 = Model_3.predict(X_train_3)\n",
    "y_test_3 = Model_3.predict(X_test_3)"
   ]
  },
  {
   "cell_type": "code",
   "execution_count": 23,
   "id": "38770da6",
   "metadata": {},
   "outputs": [
    {
     "name": "stdout",
     "output_type": "stream",
     "text": [
      "For train set, accuracy score:  0.6439393939393939\n",
      "\n",
      "For test set, accuracy score:  0.5625\n"
     ]
    }
   ],
   "source": [
    "print('For train set, accuracy score: ', accuracy_score(t_train_3, y_train_3))\n",
    "print('\\nFor test set, accuracy score: ', accuracy_score(t_test_3, y_test_3))"
   ]
  },
  {
   "cell_type": "code",
   "execution_count": 24,
   "id": "f5e386ea",
   "metadata": {},
   "outputs": [
    {
     "data": {
      "text/plain": [
       "array([0.28571429, 0.42857143, 0.57142857, 0.28571429, 0.33333333,\n",
       "       0.66666667, 0.33333333, 0.5       , 0.16666667, 0.33333333])"
      ]
     },
     "execution_count": 24,
     "metadata": {},
     "output_type": "execute_result"
    }
   ],
   "source": [
    "scores_3 = cross_val_score(Model_3,\n",
    "                           X_test_3,\n",
    "                           t_test_3,\n",
    "                           scoring='accuracy',\n",
    "                          cv=10)\n",
    "scores_3"
   ]
  },
  {
   "cell_type": "code",
   "execution_count": 25,
   "id": "426dda86",
   "metadata": {},
   "outputs": [
    {
     "name": "stdout",
     "output_type": "stream",
     "text": [
      "95% CI:  (0.28269459200877267, 0.49825778894360817)\n"
     ]
    }
   ],
   "source": [
    "# report the 95% confidence interval\n",
    "confidence = 0.95\n",
    "\n",
    "print('95% CI: ', stats.t.interval(confidence, df=len(scores_3) - 1,\n",
    "                 loc=scores_3.mean(),\n",
    "                 scale=scores_3.std(ddof=1)/np.sqrt(len(scores_3))))"
   ]
  },
  {
   "cell_type": "code",
   "execution_count": 26,
   "id": "ec0821fa",
   "metadata": {},
   "outputs": [
    {
     "name": "stderr",
     "output_type": "stream",
     "text": [
      "C:\\anaconda new\\anaconda\\envs\\gpu\\lib\\site-packages\\sklearn\\utils\\deprecation.py:87: FutureWarning: Function plot_confusion_matrix is deprecated; Function `plot_confusion_matrix` is deprecated in 1.0 and will be removed in 1.2. Use one of the class methods: ConfusionMatrixDisplay.from_predictions or ConfusionMatrixDisplay.from_estimator.\n",
      "  warnings.warn(msg, category=FutureWarning)\n"
     ]
    },
    {
     "data": {
      "image/png": "[encoded data removed]",
      "text/plain": [
       "<Figure size 640x480 with 2 Axes>"
      ]
     },
     "metadata": {},
     "output_type": "display_data"
    },
    {
     "name": "stdout",
     "output_type": "stream",
     "text": [
      "              precision    recall  f1-score   support\n",
      "\n",
      "         0.0       0.53      0.77      0.63        31\n",
      "         1.0       0.63      0.36      0.46        33\n",
      "\n",
      "    accuracy                           0.56        64\n",
      "   macro avg       0.58      0.57      0.55        64\n",
      "weighted avg       0.58      0.56      0.54        64\n",
      "\n"
     ]
    }
   ],
   "source": [
    "plot_confusion_matrix(Model_3, X_test_3, t_test_3)\n",
    "plt.show()\n",
    "print(classification_report(t_test_3, y_test_3))"
   ]
  },
  {
   "cell_type": "markdown",
   "id": "3de89536",
   "metadata": {},
   "source": [
    "#### There are  huge difference between train and test accuracy score, which implies the algorithm is overfitting. Also, the big confidence interval demonstrates that the model does not provide a precise representation of the population mean."
   ]
  },
  {
   "cell_type": "code",
   "execution_count": null,
   "id": "67f80848",
   "metadata": {},
   "outputs": [],
   "source": []
  },
  {
   "cell_type": "markdown",
   "id": "fdb5481d",
   "metadata": {},
   "source": [
    "5. Train a logistic regression to **classify customer type** and study the relationship between attributes. Namely, explain the relationship between customer type, gender, day and timeslot for branch C. To study this relationship, consider all the interaction attribution of degree 2. (See ```interaction_only``` variable in [```PolynomialFeatures```](https://scikit-learn.org/stable/modules/generated/sklearn.preprocessing.PolynomialFeatures.html)).\n",
    "\n",
    "    1. For ```Customer type = Normal``` customers, plot the parameters values for all attributes (and its 2nd-order interactions).\n",
    "    2. Which attributes are the most informative?"
   ]
  },
  {
   "cell_type": "code",
   "execution_count": 27,
   "id": "8347d35e",
   "metadata": {},
   "outputs": [
    {
     "name": "stdout",
     "output_type": "stream",
     "text": [
      "(264, 92) (64, 92)\n",
      "(264,) (64,)\n"
     ]
    }
   ],
   "source": [
    "data_4 = joblib.load('data_4.pkl')\n",
    "train_4 = data_4[:264]\n",
    "test_4 = data_4[264:328]\n",
    "X_train_4 = train_4[:,:92]\n",
    "X_test_4 = test_4[:,:92]\n",
    "t_train_4 = train_4[:,92]\n",
    "t_test_4 = test_4[:,92]\n",
    "print(X_train_4.shape, X_test_4.shape)\n",
    "print(t_train_4.shape, t_test_4.shape)"
   ]
  },
  {
   "cell_type": "code",
   "execution_count": 28,
   "id": "57f9655c",
   "metadata": {},
   "outputs": [
    {
     "data": {
      "text/plain": [
       "Pipeline(steps=[('Log_reg',\n",
       "                 LogisticRegression(max_iter=2000, penalty='none',\n",
       "                                    random_state=1, solver='newton-cg'))])"
      ]
     },
     "execution_count": 28,
     "metadata": {},
     "output_type": "execute_result"
    }
   ],
   "source": [
    "# load the data I trained in training notebook\n",
    "Model_4 = joblib.load('final_Model_4.pkl')\n",
    "Model_4"
   ]
  },
  {
   "cell_type": "code",
   "execution_count": 29,
   "id": "168d2671",
   "metadata": {},
   "outputs": [],
   "source": [
    "y_train_4 = Model_4.predict(X_train_4)\n",
    "y_test_4 = Model_4.predict(X_test_4)"
   ]
  },
  {
   "cell_type": "code",
   "execution_count": 30,
   "id": "6a0d1d5c",
   "metadata": {},
   "outputs": [
    {
     "name": "stdout",
     "output_type": "stream",
     "text": [
      "For train set, accuracy score:  0.6628787878787878\n",
      "\n",
      "For test set, accuracy score:  0.484375\n"
     ]
    }
   ],
   "source": [
    "print('For train set, accuracy score: ', accuracy_score(t_train_4, y_train_4))\n",
    "print('\\nFor test set, accuracy score: ', accuracy_score(t_test_4, y_test_4))"
   ]
  },
  {
   "cell_type": "code",
   "execution_count": 31,
   "id": "f925801f",
   "metadata": {},
   "outputs": [
    {
     "data": {
      "text/plain": [
       "array([0.14285714, 0.42857143, 0.28571429, 0.28571429, 0.33333333,\n",
       "       0.66666667, 0.33333333, 0.33333333, 0.83333333, 0.83333333])"
      ]
     },
     "execution_count": 31,
     "metadata": {},
     "output_type": "execute_result"
    }
   ],
   "source": [
    "scores_4 = cross_val_score(Model_4,\n",
    "                           X_test_4,\n",
    "                           t_test_4,\n",
    "                           scoring='accuracy',\n",
    "                          cv=10)\n",
    "scores_4"
   ]
  },
  {
   "cell_type": "code",
   "execution_count": 32,
   "id": "b11abd50",
   "metadata": {},
   "outputs": [
    {
     "name": "stdout",
     "output_type": "stream",
     "text": [
      "95% CI:  (0.2739600317325452, 0.6212780635055501)\n"
     ]
    }
   ],
   "source": [
    "# report the 95% confidence interval\n",
    "confidence = 0.95\n",
    "\n",
    "print('95% CI: ', stats.t.interval(confidence, df=len(scores_4) - 1,\n",
    "                 loc=scores_4.mean(),\n",
    "                 scale=scores_4.std(ddof=1)/np.sqrt(len(scores_4))))"
   ]
  },
  {
   "cell_type": "code",
   "execution_count": 33,
   "id": "8c516c72",
   "metadata": {},
   "outputs": [
    {
     "name": "stderr",
     "output_type": "stream",
     "text": [
      "C:\\anaconda new\\anaconda\\envs\\gpu\\lib\\site-packages\\sklearn\\utils\\deprecation.py:87: FutureWarning: Function plot_confusion_matrix is deprecated; Function `plot_confusion_matrix` is deprecated in 1.0 and will be removed in 1.2. Use one of the class methods: ConfusionMatrixDisplay.from_predictions or ConfusionMatrixDisplay.from_estimator.\n",
      "  warnings.warn(msg, category=FutureWarning)\n"
     ]
    },
    {
     "data": {
      "image/png": "[encoded data removed]",
      "text/plain": [
       "<Figure size 640x480 with 2 Axes>"
      ]
     },
     "metadata": {},
     "output_type": "display_data"
    },
    {
     "name": "stdout",
     "output_type": "stream",
     "text": [
      "              precision    recall  f1-score   support\n",
      "\n",
      "         0.0       0.52      0.38      0.44        34\n",
      "         1.0       0.46      0.60      0.52        30\n",
      "\n",
      "    accuracy                           0.48        64\n",
      "   macro avg       0.49      0.49      0.48        64\n",
      "weighted avg       0.49      0.48      0.48        64\n",
      "\n"
     ]
    }
   ],
   "source": [
    "plot_confusion_matrix(Model_4, X_test_4, t_test_4)\n",
    "plt.show()\n",
    "print(classification_report(t_test_4, y_test_4))"
   ]
  },
  {
   "cell_type": "markdown",
   "id": "3f6d7b98",
   "metadata": {},
   "source": [
    "#### There are  huge difference between train and test accuracy score, which implies the algorithm is overfitting. Also, the big confidence interval demonstrates that the model does not provide a precise representation of the population mean."
   ]
  },
  {
   "cell_type": "code",
   "execution_count": null,
   "id": "75bb97c1",
   "metadata": {},
   "outputs": [],
   "source": []
  },
  {
   "cell_type": "markdown",
   "id": "4f024745",
   "metadata": {},
   "source": [
    "For what follows, use accuracy as one of your metrics of success and report its 95% confidence interval. Carry any necessary hyperparameter tuning with pipelines. Choose the best CV strategy and report on the best hyperparameter settings."
   ]
  },
  {
   "cell_type": "markdown",
   "id": "1de04552",
   "metadata": {},
   "source": [
    "6. Train a classifier to **predict the day of purchase** (Monday, Tuesday, etc.).\n",
    "\n",
    "    1. Select at least 2 classifiers."
   ]
  },
  {
   "cell_type": "code",
   "execution_count": 34,
   "id": "563b18c6",
   "metadata": {},
   "outputs": [
    {
     "data": {
      "text/html": [
       "<div>\n",
       "<style scoped>\n",
       "    .dataframe tbody tr th:only-of-type {\n",
       "        vertical-align: middle;\n",
       "    }\n",
       "\n",
       "    .dataframe tbody tr th {\n",
       "        vertical-align: top;\n",
       "    }\n",
       "\n",
       "    .dataframe thead th {\n",
       "        text-align: right;\n",
       "    }\n",
       "</style>\n",
       "<table border=\"1\" class=\"dataframe\">\n",
       "  <thead>\n",
       "    <tr style=\"text-align: right;\">\n",
       "      <th></th>\n",
       "      <th>Unit price</th>\n",
       "      <th>Quantity</th>\n",
       "      <th>gross income</th>\n",
       "      <th>Customer type</th>\n",
       "      <th>Gender</th>\n",
       "      <th>Branch_A</th>\n",
       "      <th>Branch_B</th>\n",
       "      <th>Branch_C</th>\n",
       "      <th>Electronic accessories</th>\n",
       "      <th>Fashion accessories</th>\n",
       "      <th>...</th>\n",
       "      <th>Home and lifestyle</th>\n",
       "      <th>Sports and travel</th>\n",
       "      <th>Afternoon</th>\n",
       "      <th>Evening</th>\n",
       "      <th>Morning</th>\n",
       "      <th>Night</th>\n",
       "      <th>Cash</th>\n",
       "      <th>Credit card</th>\n",
       "      <th>Ewallet</th>\n",
       "      <th>Date</th>\n",
       "    </tr>\n",
       "  </thead>\n",
       "  <tbody>\n",
       "    <tr>\n",
       "      <th>29</th>\n",
       "      <td>-1.160308</td>\n",
       "      <td>1.184657</td>\n",
       "      <td>-0.345462</td>\n",
       "      <td>1.0</td>\n",
       "      <td>1.0</td>\n",
       "      <td>1.0</td>\n",
       "      <td>0.0</td>\n",
       "      <td>0.0</td>\n",
       "      <td>0.0</td>\n",
       "      <td>0.0</td>\n",
       "      <td>...</td>\n",
       "      <td>0.0</td>\n",
       "      <td>0.0</td>\n",
       "      <td>1.0</td>\n",
       "      <td>0.0</td>\n",
       "      <td>0.0</td>\n",
       "      <td>0.0</td>\n",
       "      <td>1.0</td>\n",
       "      <td>0.0</td>\n",
       "      <td>0.0</td>\n",
       "      <td>0.0</td>\n",
       "    </tr>\n",
       "    <tr>\n",
       "      <th>535</th>\n",
       "      <td>-1.473301</td>\n",
       "      <td>0.507468</td>\n",
       "      <td>-0.808736</td>\n",
       "      <td>1.0</td>\n",
       "      <td>1.0</td>\n",
       "      <td>0.0</td>\n",
       "      <td>0.0</td>\n",
       "      <td>1.0</td>\n",
       "      <td>0.0</td>\n",
       "      <td>0.0</td>\n",
       "      <td>...</td>\n",
       "      <td>1.0</td>\n",
       "      <td>0.0</td>\n",
       "      <td>0.0</td>\n",
       "      <td>0.0</td>\n",
       "      <td>1.0</td>\n",
       "      <td>0.0</td>\n",
       "      <td>0.0</td>\n",
       "      <td>0.0</td>\n",
       "      <td>1.0</td>\n",
       "      <td>4.0</td>\n",
       "    </tr>\n",
       "    <tr>\n",
       "      <th>695</th>\n",
       "      <td>1.218746</td>\n",
       "      <td>-0.169720</td>\n",
       "      <td>0.573317</td>\n",
       "      <td>0.0</td>\n",
       "      <td>0.0</td>\n",
       "      <td>1.0</td>\n",
       "      <td>0.0</td>\n",
       "      <td>0.0</td>\n",
       "      <td>0.0</td>\n",
       "      <td>0.0</td>\n",
       "      <td>...</td>\n",
       "      <td>1.0</td>\n",
       "      <td>0.0</td>\n",
       "      <td>0.0</td>\n",
       "      <td>0.0</td>\n",
       "      <td>0.0</td>\n",
       "      <td>1.0</td>\n",
       "      <td>1.0</td>\n",
       "      <td>0.0</td>\n",
       "      <td>0.0</td>\n",
       "      <td>5.0</td>\n",
       "    </tr>\n",
       "    <tr>\n",
       "      <th>557</th>\n",
       "      <td>1.643305</td>\n",
       "      <td>1.523251</td>\n",
       "      <td>2.940413</td>\n",
       "      <td>0.0</td>\n",
       "      <td>0.0</td>\n",
       "      <td>0.0</td>\n",
       "      <td>0.0</td>\n",
       "      <td>1.0</td>\n",
       "      <td>0.0</td>\n",
       "      <td>0.0</td>\n",
       "      <td>...</td>\n",
       "      <td>0.0</td>\n",
       "      <td>0.0</td>\n",
       "      <td>0.0</td>\n",
       "      <td>0.0</td>\n",
       "      <td>0.0</td>\n",
       "      <td>1.0</td>\n",
       "      <td>0.0</td>\n",
       "      <td>0.0</td>\n",
       "      <td>1.0</td>\n",
       "      <td>6.0</td>\n",
       "    </tr>\n",
       "    <tr>\n",
       "      <th>836</th>\n",
       "      <td>-0.640556</td>\n",
       "      <td>-0.169720</td>\n",
       "      <td>-0.480619</td>\n",
       "      <td>0.0</td>\n",
       "      <td>1.0</td>\n",
       "      <td>1.0</td>\n",
       "      <td>0.0</td>\n",
       "      <td>0.0</td>\n",
       "      <td>0.0</td>\n",
       "      <td>1.0</td>\n",
       "      <td>...</td>\n",
       "      <td>0.0</td>\n",
       "      <td>0.0</td>\n",
       "      <td>1.0</td>\n",
       "      <td>0.0</td>\n",
       "      <td>0.0</td>\n",
       "      <td>0.0</td>\n",
       "      <td>0.0</td>\n",
       "      <td>0.0</td>\n",
       "      <td>1.0</td>\n",
       "      <td>6.0</td>\n",
       "    </tr>\n",
       "    <tr>\n",
       "      <th>...</th>\n",
       "      <td>...</td>\n",
       "      <td>...</td>\n",
       "      <td>...</td>\n",
       "      <td>...</td>\n",
       "      <td>...</td>\n",
       "      <td>...</td>\n",
       "      <td>...</td>\n",
       "      <td>...</td>\n",
       "      <td>...</td>\n",
       "      <td>...</td>\n",
       "      <td>...</td>\n",
       "      <td>...</td>\n",
       "      <td>...</td>\n",
       "      <td>...</td>\n",
       "      <td>...</td>\n",
       "      <td>...</td>\n",
       "      <td>...</td>\n",
       "      <td>...</td>\n",
       "      <td>...</td>\n",
       "      <td>...</td>\n",
       "      <td>...</td>\n",
       "    </tr>\n",
       "    <tr>\n",
       "      <th>408</th>\n",
       "      <td>0.044450</td>\n",
       "      <td>-0.508315</td>\n",
       "      <td>-0.336353</td>\n",
       "      <td>1.0</td>\n",
       "      <td>0.0</td>\n",
       "      <td>1.0</td>\n",
       "      <td>0.0</td>\n",
       "      <td>0.0</td>\n",
       "      <td>0.0</td>\n",
       "      <td>0.0</td>\n",
       "      <td>...</td>\n",
       "      <td>1.0</td>\n",
       "      <td>0.0</td>\n",
       "      <td>0.0</td>\n",
       "      <td>0.0</td>\n",
       "      <td>0.0</td>\n",
       "      <td>1.0</td>\n",
       "      <td>0.0</td>\n",
       "      <td>0.0</td>\n",
       "      <td>1.0</td>\n",
       "      <td>1.0</td>\n",
       "    </tr>\n",
       "    <tr>\n",
       "      <th>332</th>\n",
       "      <td>0.824649</td>\n",
       "      <td>-0.169720</td>\n",
       "      <td>0.349925</td>\n",
       "      <td>1.0</td>\n",
       "      <td>1.0</td>\n",
       "      <td>1.0</td>\n",
       "      <td>0.0</td>\n",
       "      <td>0.0</td>\n",
       "      <td>0.0</td>\n",
       "      <td>1.0</td>\n",
       "      <td>...</td>\n",
       "      <td>0.0</td>\n",
       "      <td>0.0</td>\n",
       "      <td>1.0</td>\n",
       "      <td>0.0</td>\n",
       "      <td>0.0</td>\n",
       "      <td>0.0</td>\n",
       "      <td>1.0</td>\n",
       "      <td>0.0</td>\n",
       "      <td>0.0</td>\n",
       "      <td>3.0</td>\n",
       "    </tr>\n",
       "    <tr>\n",
       "      <th>208</th>\n",
       "      <td>-0.951645</td>\n",
       "      <td>-0.846909</td>\n",
       "      <td>-0.919159</td>\n",
       "      <td>1.0</td>\n",
       "      <td>0.0</td>\n",
       "      <td>0.0</td>\n",
       "      <td>1.0</td>\n",
       "      <td>0.0</td>\n",
       "      <td>0.0</td>\n",
       "      <td>1.0</td>\n",
       "      <td>...</td>\n",
       "      <td>0.0</td>\n",
       "      <td>0.0</td>\n",
       "      <td>1.0</td>\n",
       "      <td>0.0</td>\n",
       "      <td>0.0</td>\n",
       "      <td>0.0</td>\n",
       "      <td>0.0</td>\n",
       "      <td>0.0</td>\n",
       "      <td>1.0</td>\n",
       "      <td>4.0</td>\n",
       "    </tr>\n",
       "    <tr>\n",
       "      <th>613</th>\n",
       "      <td>0.973530</td>\n",
       "      <td>-1.524097</td>\n",
       "      <td>-0.963104</td>\n",
       "      <td>0.0</td>\n",
       "      <td>1.0</td>\n",
       "      <td>0.0</td>\n",
       "      <td>0.0</td>\n",
       "      <td>1.0</td>\n",
       "      <td>0.0</td>\n",
       "      <td>0.0</td>\n",
       "      <td>...</td>\n",
       "      <td>0.0</td>\n",
       "      <td>1.0</td>\n",
       "      <td>1.0</td>\n",
       "      <td>0.0</td>\n",
       "      <td>0.0</td>\n",
       "      <td>0.0</td>\n",
       "      <td>0.0</td>\n",
       "      <td>1.0</td>\n",
       "      <td>0.0</td>\n",
       "      <td>2.0</td>\n",
       "    </tr>\n",
       "    <tr>\n",
       "      <th>78</th>\n",
       "      <td>0.873768</td>\n",
       "      <td>1.523251</td>\n",
       "      <td>2.067996</td>\n",
       "      <td>0.0</td>\n",
       "      <td>0.0</td>\n",
       "      <td>0.0</td>\n",
       "      <td>0.0</td>\n",
       "      <td>1.0</td>\n",
       "      <td>0.0</td>\n",
       "      <td>0.0</td>\n",
       "      <td>...</td>\n",
       "      <td>0.0</td>\n",
       "      <td>0.0</td>\n",
       "      <td>1.0</td>\n",
       "      <td>0.0</td>\n",
       "      <td>0.0</td>\n",
       "      <td>0.0</td>\n",
       "      <td>0.0</td>\n",
       "      <td>0.0</td>\n",
       "      <td>1.0</td>\n",
       "      <td>5.0</td>\n",
       "    </tr>\n",
       "  </tbody>\n",
       "</table>\n",
       "<p>1000 rows × 22 columns</p>\n",
       "</div>"
      ],
      "text/plain": [
       "     Unit price  Quantity  gross income  Customer type  Gender  Branch_A  \\\n",
       "29    -1.160308  1.184657     -0.345462            1.0     1.0       1.0   \n",
       "535   -1.473301  0.507468     -0.808736            1.0     1.0       0.0   \n",
       "695    1.218746 -0.169720      0.573317            0.0     0.0       1.0   \n",
       "557    1.643305  1.523251      2.940413            0.0     0.0       0.0   \n",
       "836   -0.640556 -0.169720     -0.480619            0.0     1.0       1.0   \n",
       "..          ...       ...           ...            ...     ...       ...   \n",
       "408    0.044450 -0.508315     -0.336353            1.0     0.0       1.0   \n",
       "332    0.824649 -0.169720      0.349925            1.0     1.0       1.0   \n",
       "208   -0.951645 -0.846909     -0.919159            1.0     0.0       0.0   \n",
       "613    0.973530 -1.524097     -0.963104            0.0     1.0       0.0   \n",
       "78     0.873768  1.523251      2.067996            0.0     0.0       0.0   \n",
       "\n",
       "     Branch_B  Branch_C  Electronic accessories  Fashion accessories  ...  \\\n",
       "29        0.0       0.0                     0.0                  0.0  ...   \n",
       "535       0.0       1.0                     0.0                  0.0  ...   \n",
       "695       0.0       0.0                     0.0                  0.0  ...   \n",
       "557       0.0       1.0                     0.0                  0.0  ...   \n",
       "836       0.0       0.0                     0.0                  1.0  ...   \n",
       "..        ...       ...                     ...                  ...  ...   \n",
       "408       0.0       0.0                     0.0                  0.0  ...   \n",
       "332       0.0       0.0                     0.0                  1.0  ...   \n",
       "208       1.0       0.0                     0.0                  1.0  ...   \n",
       "613       0.0       1.0                     0.0                  0.0  ...   \n",
       "78        0.0       1.0                     0.0                  0.0  ...   \n",
       "\n",
       "     Home and lifestyle  Sports and travel  Afternoon  Evening  Morning  \\\n",
       "29                  0.0                0.0        1.0      0.0      0.0   \n",
       "535                 1.0                0.0        0.0      0.0      1.0   \n",
       "695                 1.0                0.0        0.0      0.0      0.0   \n",
       "557                 0.0                0.0        0.0      0.0      0.0   \n",
       "836                 0.0                0.0        1.0      0.0      0.0   \n",
       "..                  ...                ...        ...      ...      ...   \n",
       "408                 1.0                0.0        0.0      0.0      0.0   \n",
       "332                 0.0                0.0        1.0      0.0      0.0   \n",
       "208                 0.0                0.0        1.0      0.0      0.0   \n",
       "613                 0.0                1.0        1.0      0.0      0.0   \n",
       "78                  0.0                0.0        1.0      0.0      0.0   \n",
       "\n",
       "     Night  Cash  Credit card  Ewallet  Date  \n",
       "29     0.0   1.0          0.0      0.0   0.0  \n",
       "535    0.0   0.0          0.0      1.0   4.0  \n",
       "695    1.0   1.0          0.0      0.0   5.0  \n",
       "557    1.0   0.0          0.0      1.0   6.0  \n",
       "836    0.0   0.0          0.0      1.0   6.0  \n",
       "..     ...   ...          ...      ...   ...  \n",
       "408    1.0   0.0          0.0      1.0   1.0  \n",
       "332    0.0   1.0          0.0      0.0   3.0  \n",
       "208    0.0   0.0          0.0      1.0   4.0  \n",
       "613    0.0   0.0          1.0      0.0   2.0  \n",
       "78     0.0   0.0          0.0      1.0   5.0  \n",
       "\n",
       "[1000 rows x 22 columns]"
      ]
     },
     "execution_count": 34,
     "metadata": {},
     "output_type": "execute_result"
    }
   ],
   "source": [
    "# data_day is vstack by train and test data\n",
    "data_day = joblib.load('data_day.pkl')\n",
    "data_day"
   ]
  },
  {
   "cell_type": "code",
   "execution_count": 35,
   "id": "4390a173",
   "metadata": {},
   "outputs": [
    {
     "name": "stdout",
     "output_type": "stream",
     "text": [
      "(800, 22) (200, 22)\n"
     ]
    }
   ],
   "source": [
    "train5 = data_day[:800]\n",
    "test5 = data_day[800:1000]\n",
    "print(train5.shape, test5.shape)"
   ]
  },
  {
   "cell_type": "code",
   "execution_count": 36,
   "id": "44fcdddd",
   "metadata": {},
   "outputs": [],
   "source": [
    "X_train_5 = train5.drop(['Date'], axis=1)\n",
    "X_test_5 = test5.drop(['Date'], axis=1)\n",
    "t_train_5 = train5['Date']\n",
    "t_test_5 = test5['Date']"
   ]
  },
  {
   "cell_type": "code",
   "execution_count": 37,
   "id": "9fa28cc3",
   "metadata": {},
   "outputs": [
    {
     "name": "stdout",
     "output_type": "stream",
     "text": [
      "Pipeline(steps=[('Log_reg',\n",
      "                 LogisticRegression(max_iter=1000, solver='newton-cg'))]) \n",
      " Pipeline(steps=[('DT', DecisionTreeClassifier(max_depth=1))]) \n",
      " Pipeline(steps=[('Random_Forest',\n",
      "                 RandomForestClassifier(max_depth=5, min_samples_split=4,\n",
      "                                        n_estimators=150))])\n"
     ]
    }
   ],
   "source": [
    "# load the data I trained in training notebook, encluding three calssifiers\n",
    "Model_5_1 = joblib.load('final_model_5_1.pkl')\n",
    "Model_5_2 = joblib.load('final_model_5_2.pkl')\n",
    "Model_5_3 = joblib.load('final_model_5_3.pkl')\n",
    "print(Model_5_1, '\\n', Model_5_2, '\\n', Model_5_3)"
   ]
  },
  {
   "cell_type": "code",
   "execution_count": 38,
   "id": "70bad496",
   "metadata": {},
   "outputs": [],
   "source": [
    "# classifier 1\n",
    "y_train_5_1 = Model_5_1.predict(X_train_5)\n",
    "y_test_5_1 = Model_5_1.predict(X_test_5)\n",
    "# classifier 2\n",
    "y_train_5_2 = Model_5_2.predict(X_train_5)\n",
    "y_test_5_2 = Model_5_2.predict(X_test_5)\n",
    "# classifier 3\n",
    "y_train_5_3 = Model_5_3.predict(X_train_5)\n",
    "y_test_5_3 = Model_5_3.predict(X_test_5)"
   ]
  },
  {
   "cell_type": "code",
   "execution_count": 39,
   "id": "f7c25017",
   "metadata": {},
   "outputs": [
    {
     "name": "stdout",
     "output_type": "stream",
     "text": [
      "Classifier 1 Pipeline(steps=[('Log_reg',\n",
      "                 LogisticRegression(max_iter=1000, solver='newton-cg'))]) \n",
      "\n",
      "For train set, accuracy score:  0.23375\n",
      "\n",
      "For test set, accuracy score:  0.135\n",
      "------------------------------------------------------------------------------\n",
      "Classifier 2 Pipeline(steps=[('DT', DecisionTreeClassifier(max_depth=1))]) \n",
      "\n",
      "For train set, accuracy score:  0.18125\n",
      "\n",
      "For test set, accuracy score:  0.13\n",
      "------------------------------------------------------------------------------\n",
      "Classifier 3 Pipeline(steps=[('Random_Forest',\n",
      "                 RandomForestClassifier(max_depth=5, min_samples_split=4,\n",
      "                                        n_estimators=150))]) \n",
      "\n",
      "For train set, accuracy score:  0.5775\n",
      "\n",
      "For test set, accuracy score:  0.155\n"
     ]
    }
   ],
   "source": [
    "print('Classifier 1', Model_5_1, '\\n')\n",
    "print('For train set, accuracy score: ', accuracy_score(t_train_5, y_train_5_1))\n",
    "print('\\nFor test set, accuracy score: ', accuracy_score(t_test_5, y_test_5_1))\n",
    "print('------------------------------------------------------------------------------')\n",
    "print('Classifier 2', Model_5_2, '\\n')\n",
    "print('For train set, accuracy score: ', accuracy_score(t_train_5, y_train_5_2))\n",
    "print('\\nFor test set, accuracy score: ', accuracy_score(t_test_5, y_test_5_2))\n",
    "print('------------------------------------------------------------------------------')\n",
    "print('Classifier 3', Model_5_3, '\\n')\n",
    "print('For train set, accuracy score: ', accuracy_score(t_train_5, y_train_5_3))\n",
    "print('\\nFor test set, accuracy score: ', accuracy_score(t_test_5, y_test_5_3))"
   ]
  },
  {
   "cell_type": "code",
   "execution_count": 40,
   "id": "57bdd75e",
   "metadata": {},
   "outputs": [
    {
     "name": "stdout",
     "output_type": "stream",
     "text": [
      "[0.15 0.15 0.1  0.15 0.1  0.2  0.1  0.05 0.15 0.25] \n",
      " [0.1  0.15 0.2  0.2  0.15 0.15 0.1  0.2  0.15 0.15] \n",
      " [0.05 0.1  0.   0.25 0.   0.1  0.   0.05 0.2  0.1 ]\n"
     ]
    }
   ],
   "source": [
    "scores_5_1 = cross_val_score(Model_5_1,\n",
    "                           X_test_5,\n",
    "                           t_test_5,\n",
    "                           scoring='accuracy',\n",
    "                          cv=10)\n",
    "scores_5_2 = cross_val_score(Model_5_2,\n",
    "                           X_test_5,\n",
    "                           t_test_5,\n",
    "                           scoring='accuracy',\n",
    "                          cv=10)\n",
    "scores_5_3 = cross_val_score(Model_5_3,\n",
    "                           X_test_5,\n",
    "                           t_test_5,\n",
    "                           scoring='accuracy',\n",
    "                          cv=10)\n",
    "print(scores_5_1, '\\n', scores_5_2, '\\n', scores_5_3)"
   ]
  },
  {
   "cell_type": "code",
   "execution_count": 41,
   "id": "cf12cde7",
   "metadata": {},
   "outputs": [
    {
     "name": "stdout",
     "output_type": "stream",
     "text": [
      "95% CI for Classifier1:  (0.09939303619666656, 0.1806069638033334)\n",
      "95% CI for Classifier2:  (0.12860816643468842, 0.18139183356531152)\n",
      "95% CI for Classifier3:  (0.024089554294999843, 0.14591044570500014)\n"
     ]
    }
   ],
   "source": [
    "# report the 95% confidence interval\n",
    "confidence = 0.95\n",
    "\n",
    "print('95% CI for Classifier1: ', stats.t.interval(confidence, df=len(scores_5_1) - 1,\n",
    "                 loc=scores_5_1.mean(),\n",
    "                 scale=scores_5_1.std(ddof=1)/np.sqrt(len(scores_5_1))))\n",
    "print('95% CI for Classifier2: ', stats.t.interval(confidence, df=len(scores_5_2) - 1,\n",
    "                 loc=scores_5_2.mean(),\n",
    "                 scale=scores_5_2.std(ddof=1)/np.sqrt(len(scores_5_2))))\n",
    "print('95% CI for Classifier3: ', stats.t.interval(confidence, df=len(scores_5_3) - 1,\n",
    "                 loc=scores_5_3.mean(),\n",
    "                 scale=scores_5_3.std(ddof=1)/np.sqrt(len(scores_5_3))))"
   ]
  },
  {
   "cell_type": "code",
   "execution_count": 42,
   "id": "d4ad4a0b",
   "metadata": {},
   "outputs": [
    {
     "name": "stderr",
     "output_type": "stream",
     "text": [
      "C:\\anaconda new\\anaconda\\envs\\gpu\\lib\\site-packages\\sklearn\\utils\\deprecation.py:87: FutureWarning: Function plot_confusion_matrix is deprecated; Function `plot_confusion_matrix` is deprecated in 1.0 and will be removed in 1.2. Use one of the class methods: ConfusionMatrixDisplay.from_predictions or ConfusionMatrixDisplay.from_estimator.\n",
      "  warnings.warn(msg, category=FutureWarning)\n"
     ]
    },
    {
     "data": {
      "image/png": "[encoded data removed]",
      "text/plain": [
       "<Figure size 640x480 with 2 Axes>"
      ]
     },
     "metadata": {},
     "output_type": "display_data"
    },
    {
     "name": "stderr",
     "output_type": "stream",
     "text": [
      "C:\\anaconda new\\anaconda\\envs\\gpu\\lib\\site-packages\\sklearn\\utils\\deprecation.py:87: FutureWarning: Function plot_confusion_matrix is deprecated; Function `plot_confusion_matrix` is deprecated in 1.0 and will be removed in 1.2. Use one of the class methods: ConfusionMatrixDisplay.from_predictions or ConfusionMatrixDisplay.from_estimator.\n",
      "  warnings.warn(msg, category=FutureWarning)\n"
     ]
    },
    {
     "data": {
      "image/png": "[encoded data removed]",
      "text/plain": [
       "<Figure size 640x480 with 2 Axes>"
      ]
     },
     "metadata": {},
     "output_type": "display_data"
    },
    {
     "name": "stderr",
     "output_type": "stream",
     "text": [
      "C:\\anaconda new\\anaconda\\envs\\gpu\\lib\\site-packages\\sklearn\\utils\\deprecation.py:87: FutureWarning: Function plot_confusion_matrix is deprecated; Function `plot_confusion_matrix` is deprecated in 1.0 and will be removed in 1.2. Use one of the class methods: ConfusionMatrixDisplay.from_predictions or ConfusionMatrixDisplay.from_estimator.\n",
      "  warnings.warn(msg, category=FutureWarning)\n"
     ]
    },
    {
     "data": {
      "image/png": "[encoded data removed]",
      "text/plain": [
       "<Figure size 640x480 with 2 Axes>"
      ]
     },
     "metadata": {},
     "output_type": "display_data"
    }
   ],
   "source": [
    "plot_confusion_matrix(Model_5_1, X_test_5, t_test_5)\n",
    "plt.show()\n",
    "plot_confusion_matrix(Model_5_2, X_test_5, t_test_5)\n",
    "plt.show()\n",
    "plot_confusion_matrix(Model_5_3, X_test_5, t_test_5)\n",
    "plt.show()"
   ]
  },
  {
   "cell_type": "markdown",
   "id": "f1b6913f",
   "metadata": {},
   "source": [
    "#### By comparing the train and test accuracy score, we can conclude that all algorithms are all overfitting. Although there are closer accuracy score in decision tree algorithm, the result of confusion matrix implies that decision tree can not correctly classify several targets. For random forest classifier, test accuracy does not lie in 95% confidence interval, which is not suitable for this classification. As a result, the best algorithm for this problem is logistic regression with solver='newton-cg'."
   ]
  }
 ],
 "metadata": {
  "kernelspec": {
   "display_name": "gpu",
   "language": "python",
   "name": "gpu"
  },
  "language_info": {
   "codemirror_mode": {
    "name": "ipython",
    "version": 3
   },
   "file_extension": ".py",
   "mimetype": "text/x-python",
   "name": "python",
   "nbconvert_exporter": "python",
   "pygments_lexer": "ipython3",
   "version": "3.8.13"
  }
 },
 "nbformat": 4,
 "nbformat_minor": 5
}
